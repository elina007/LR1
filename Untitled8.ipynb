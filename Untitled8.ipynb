{
  "nbformat": 4,
  "nbformat_minor": 0,
  "metadata": {
    "colab": {
      "name": "Untitled8.ipynb",
      "provenance": [],
      "collapsed_sections": [],
      "authorship_tag": "ABX9TyODz/t1vsUzTH6Xje1GMLKb",
      "include_colab_link": true
    },
    "kernelspec": {
      "name": "python3",
      "display_name": "Python 3"
    }
  },
  "cells": [
    {
      "cell_type": "markdown",
      "metadata": {
        "id": "view-in-github",
        "colab_type": "text"
      },
      "source": [
        "<a href=\"https://colab.research.google.com/github/elina007/LR1/blob/master/Untitled8.ipynb\" target=\"_parent\"><img src=\"https://colab.research.google.com/assets/colab-badge.svg\" alt=\"Open In Colab\"/></a>"
      ]
    },
    {
      "cell_type": "code",
      "metadata": {
        "id": "eTgsDeusK1kN",
        "colab_type": "code",
        "colab": {}
      },
      "source": [
        ""
      ],
      "execution_count": 0,
      "outputs": []
    },
    {
      "cell_type": "markdown",
      "metadata": {
        "id": "ymf7vez8K3ii",
        "colab_type": "text"
      },
      "source": [
        "# Пример использования Markdown\n",
        "## Нужно сделать\n",
        "1. Список.\n",
        "2. Рисунок.\n",
        "3. Таблицу.\n",
        "4. Ссылку.\n",
        "\n",
        " ![alt text](https://i.ytimg.com/vi/YmZculStFCc/maxresdefault.jpg/150x100)\n",
        "\n",
        "[Руководство по Markdown](https://daringfireball.net/prijects/markdown/syntax)\n",
        "\n",
        "|  A  |  B  |  C  |\n",
        "| --- | --- | --- |\n",
        "| 123 | 231 | 11  |\n",
        "|  23 |  1  | 155 |"
      ]
    }
  ]
}